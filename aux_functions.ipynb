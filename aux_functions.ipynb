{
 "cells": [
  {
   "cell_type": "raw",
   "metadata": {},
   "source": []
  },
  {
   "cell_type": "code",
   "execution_count": 167,
   "metadata": {
    "collapsed": false
   },
   "outputs": [],
   "source": [
    "import requests\n",
    "import simplejson as json\n",
    "import quandl\n",
    "from bokeh.plotting import figure, show\n",
    "from bokeh.io import output_notebook\n",
    "from bokeh.embed import components \n",
    "from flask import render_template\n",
    "from bokeh.embed import file_html\n",
    "from bokeh.resources import CDN"
   ]
  },
  {
   "cell_type": "code",
   "execution_count": 159,
   "metadata": {
    "collapsed": false
   },
   "outputs": [],
   "source": [
    "quandl.ApiConfig.api_key = 'Vs3VjGfhRTx_7Pbu2sZ_'\n",
    "data = quandl.get_table('WIKI/PRICES')"
   ]
  },
  {
   "cell_type": "code",
   "execution_count": 80,
   "metadata": {
    "collapsed": false
   },
   "outputs": [
    {
     "data": {
      "text/html": [
       "<div>\n",
       "<table border=\"1\" class=\"dataframe\">\n",
       "  <thead>\n",
       "    <tr style=\"text-align: right;\">\n",
       "      <th></th>\n",
       "      <th>ticker</th>\n",
       "      <th>date</th>\n",
       "      <th>open</th>\n",
       "      <th>high</th>\n",
       "      <th>low</th>\n",
       "      <th>close</th>\n",
       "      <th>volume</th>\n",
       "      <th>ex-dividend</th>\n",
       "      <th>split_ratio</th>\n",
       "      <th>adj_open</th>\n",
       "      <th>adj_high</th>\n",
       "      <th>adj_low</th>\n",
       "      <th>adj_close</th>\n",
       "      <th>adj_volume</th>\n",
       "    </tr>\n",
       "    <tr>\n",
       "      <th>None</th>\n",
       "      <th></th>\n",
       "      <th></th>\n",
       "      <th></th>\n",
       "      <th></th>\n",
       "      <th></th>\n",
       "      <th></th>\n",
       "      <th></th>\n",
       "      <th></th>\n",
       "      <th></th>\n",
       "      <th></th>\n",
       "      <th></th>\n",
       "      <th></th>\n",
       "      <th></th>\n",
       "      <th></th>\n",
       "    </tr>\n",
       "  </thead>\n",
       "  <tbody>\n",
       "    <tr>\n",
       "      <th>0</th>\n",
       "      <td>A</td>\n",
       "      <td>1999-11-18</td>\n",
       "      <td>45.50</td>\n",
       "      <td>50.00</td>\n",
       "      <td>40.00</td>\n",
       "      <td>44.00</td>\n",
       "      <td>44739900.0</td>\n",
       "      <td>0.0</td>\n",
       "      <td>1.0</td>\n",
       "      <td>43.240843</td>\n",
       "      <td>47.517410</td>\n",
       "      <td>38.013928</td>\n",
       "      <td>41.815321</td>\n",
       "      <td>44739900.0</td>\n",
       "    </tr>\n",
       "    <tr>\n",
       "      <th>1</th>\n",
       "      <td>A</td>\n",
       "      <td>1999-11-19</td>\n",
       "      <td>42.94</td>\n",
       "      <td>43.00</td>\n",
       "      <td>39.81</td>\n",
       "      <td>40.38</td>\n",
       "      <td>10897100.0</td>\n",
       "      <td>0.0</td>\n",
       "      <td>1.0</td>\n",
       "      <td>40.807952</td>\n",
       "      <td>40.864973</td>\n",
       "      <td>37.833362</td>\n",
       "      <td>38.375060</td>\n",
       "      <td>10897100.0</td>\n",
       "    </tr>\n",
       "    <tr>\n",
       "      <th>2</th>\n",
       "      <td>A</td>\n",
       "      <td>1999-11-22</td>\n",
       "      <td>41.31</td>\n",
       "      <td>44.00</td>\n",
       "      <td>40.06</td>\n",
       "      <td>44.00</td>\n",
       "      <td>4705200.0</td>\n",
       "      <td>0.0</td>\n",
       "      <td>1.0</td>\n",
       "      <td>39.258884</td>\n",
       "      <td>41.815321</td>\n",
       "      <td>38.070949</td>\n",
       "      <td>41.815321</td>\n",
       "      <td>4705200.0</td>\n",
       "    </tr>\n",
       "    <tr>\n",
       "      <th>3</th>\n",
       "      <td>A</td>\n",
       "      <td>1999-11-23</td>\n",
       "      <td>42.50</td>\n",
       "      <td>43.63</td>\n",
       "      <td>40.25</td>\n",
       "      <td>40.25</td>\n",
       "      <td>4274400.0</td>\n",
       "      <td>0.0</td>\n",
       "      <td>1.0</td>\n",
       "      <td>40.389799</td>\n",
       "      <td>41.463692</td>\n",
       "      <td>38.251515</td>\n",
       "      <td>38.251515</td>\n",
       "      <td>4274400.0</td>\n",
       "    </tr>\n",
       "    <tr>\n",
       "      <th>4</th>\n",
       "      <td>A</td>\n",
       "      <td>1999-11-24</td>\n",
       "      <td>40.13</td>\n",
       "      <td>41.94</td>\n",
       "      <td>40.00</td>\n",
       "      <td>41.06</td>\n",
       "      <td>3464400.0</td>\n",
       "      <td>0.0</td>\n",
       "      <td>1.0</td>\n",
       "      <td>38.137473</td>\n",
       "      <td>39.857604</td>\n",
       "      <td>38.013928</td>\n",
       "      <td>39.021297</td>\n",
       "      <td>3464400.0</td>\n",
       "    </tr>\n",
       "  </tbody>\n",
       "</table>\n",
       "</div>"
      ],
      "text/plain": [
       "     ticker       date   open   high    low  close      volume  ex-dividend  \\\n",
       "None                                                                          \n",
       "0         A 1999-11-18  45.50  50.00  40.00  44.00  44739900.0          0.0   \n",
       "1         A 1999-11-19  42.94  43.00  39.81  40.38  10897100.0          0.0   \n",
       "2         A 1999-11-22  41.31  44.00  40.06  44.00   4705200.0          0.0   \n",
       "3         A 1999-11-23  42.50  43.63  40.25  40.25   4274400.0          0.0   \n",
       "4         A 1999-11-24  40.13  41.94  40.00  41.06   3464400.0          0.0   \n",
       "\n",
       "      split_ratio   adj_open   adj_high    adj_low  adj_close  adj_volume  \n",
       "None                                                                       \n",
       "0             1.0  43.240843  47.517410  38.013928  41.815321  44739900.0  \n",
       "1             1.0  40.807952  40.864973  37.833362  38.375060  10897100.0  \n",
       "2             1.0  39.258884  41.815321  38.070949  41.815321   4705200.0  \n",
       "3             1.0  40.389799  41.463692  38.251515  38.251515   4274400.0  \n",
       "4             1.0  38.137473  39.857604  38.013928  39.021297   3464400.0  "
      ]
     },
     "execution_count": 80,
     "metadata": {},
     "output_type": "execute_result"
    }
   ],
   "source": [
    "data.head()"
   ]
  },
  {
   "cell_type": "code",
   "execution_count": 119,
   "metadata": {
    "collapsed": false
   },
   "outputs": [],
   "source": [
    "api_url = 'https://www.quandl.com/api/v3/datatables/WIKI/PRICES.json?api_key=Vs3VjGfhRTx_7Pbu2sZ_'\n",
    "session = requests.Session()\n",
    "session.mount('http://', requests.adapters.HTTPAdapter(max_retries=3))\n",
    "raw_data = session.get(api_url).json()\n",
    "data = raw_data"
   ]
  },
  {
   "cell_type": "code",
   "execution_count": 120,
   "metadata": {
    "collapsed": false
   },
   "outputs": [],
   "source": [
    "data_j = json.dumps(raw_data)\n",
    "data = json.loads(data_j)"
   ]
  },
  {
   "cell_type": "code",
   "execution_count": 121,
   "metadata": {
    "collapsed": false
   },
   "outputs": [
    {
     "data": {
      "text/plain": [
       "[{'name': 'ticker', 'type': 'String'},\n",
       " {'name': 'date', 'type': 'Date'},\n",
       " {'name': 'open', 'type': 'BigDecimal(34,12)'},\n",
       " {'name': 'high', 'type': 'BigDecimal(34,12)'},\n",
       " {'name': 'low', 'type': 'BigDecimal(34,12)'},\n",
       " {'name': 'close', 'type': 'BigDecimal(34,12)'},\n",
       " {'name': 'volume', 'type': 'BigDecimal(37,15)'},\n",
       " {'name': 'ex-dividend', 'type': 'BigDecimal(42,20)'},\n",
       " {'name': 'split_ratio', 'type': 'BigDecimal(40,18)'},\n",
       " {'name': 'adj_open', 'type': 'BigDecimal(50,28)'},\n",
       " {'name': 'adj_high', 'type': 'BigDecimal(50,28)'},\n",
       " {'name': 'adj_low', 'type': 'BigDecimal(50,28)'},\n",
       " {'name': 'adj_close', 'type': 'BigDecimal(50,28)'},\n",
       " {'name': 'adj_volume', 'type': 'double'}]"
      ]
     },
     "execution_count": 121,
     "metadata": {},
     "output_type": "execute_result"
    }
   ],
   "source": [
    "data['datatable']['columns']"
   ]
  },
  {
   "cell_type": "code",
   "execution_count": 122,
   "metadata": {
    "collapsed": false
   },
   "outputs": [],
   "source": [
    "lendata = len(data['datatable']['data'])\n",
    "ticker = [data['datatable']['data'][i][0] for i in range(0, lendata)] \n",
    "opend = [data['datatable']['data'][i][2] for i in range(0, lendata)] \n",
    "high = [data['datatable']['data'][i][3] for i in range(0, lendata)] \n",
    "low = [data['datatable']['data'][i][4] for i in range(0, lendata)] \n",
    "close = [data['datatable']['data'][i][5] for i in range(0, lendata)] \n",
    "date = [data['datatable']['data'][i][1] for i in range(0, lendata)] "
   ]
  },
  {
   "cell_type": "code",
   "execution_count": 89,
   "metadata": {
    "collapsed": false
   },
   "outputs": [
    {
     "data": {
      "text/plain": [
       "{'A', 'AA', 'AAL', 'AAMC', 'AAN'}"
      ]
     },
     "execution_count": 89,
     "metadata": {},
     "output_type": "execute_result"
    }
   ],
   "source": [
    "set(ticker)"
   ]
  },
  {
   "cell_type": "code",
   "execution_count": 154,
   "metadata": {
    "collapsed": false
   },
   "outputs": [],
   "source": [
    "selected_ticker = 'AA'\n",
    "print_date = [date[i] for i in range(0, lendata) if ticker[i] == 'AA']\n",
    "print_close = [close[i] for i in range(0, lendata) if ticker[i] == 'AA']\n",
    "print_opend =  [opend[i] for i in range(0, lendata) if ticker[i] == 'AA']"
   ]
  },
  {
   "cell_type": "code",
   "execution_count": 155,
   "metadata": {
    "collapsed": false
   },
   "outputs": [
    {
     "data": {
      "text/html": [
       "\n",
       "    <div class=\"bk-root\">\n",
       "        <a href=\"http://bokeh.pydata.org\" target=\"_blank\" class=\"bk-logo bk-logo-small bk-logo-notebook\"></a>\n",
       "        <span id=\"ae2cdb35-e286-4c28-9a71-be1368dbcc42\">Loading BokehJS ...</span>\n",
       "    </div>"
      ]
     },
     "metadata": {},
     "output_type": "display_data"
    },
    {
     "data": {
      "application/javascript": [
       "\n",
       "(function(global) {\n",
       "  function now() {\n",
       "    return new Date();\n",
       "  }\n",
       "\n",
       "  var force = true;\n",
       "\n",
       "  if (typeof (window._bokeh_onload_callbacks) === \"undefined\" || force === true) {\n",
       "    window._bokeh_onload_callbacks = [];\n",
       "    window._bokeh_is_loading = undefined;\n",
       "  }\n",
       "\n",
       "\n",
       "  \n",
       "  if (typeof (window._bokeh_timeout) === \"undefined\" || force === true) {\n",
       "    window._bokeh_timeout = Date.now() + 5000;\n",
       "    window._bokeh_failed_load = false;\n",
       "  }\n",
       "\n",
       "  var NB_LOAD_WARNING = {'data': {'text/html':\n",
       "     \"<div style='background-color: #fdd'>\\n\"+\n",
       "     \"<p>\\n\"+\n",
       "     \"BokehJS does not appear to have successfully loaded. If loading BokehJS from CDN, this \\n\"+\n",
       "     \"may be due to a slow or bad network connection. Possible fixes:\\n\"+\n",
       "     \"</p>\\n\"+\n",
       "     \"<ul>\\n\"+\n",
       "     \"<li>re-rerun `output_notebook()` to attempt to load from CDN again, or</li>\\n\"+\n",
       "     \"<li>use INLINE resources instead, as so:</li>\\n\"+\n",
       "     \"</ul>\\n\"+\n",
       "     \"<code>\\n\"+\n",
       "     \"from bokeh.resources import INLINE\\n\"+\n",
       "     \"output_notebook(resources=INLINE)\\n\"+\n",
       "     \"</code>\\n\"+\n",
       "     \"</div>\"}};\n",
       "\n",
       "  function display_loaded() {\n",
       "    if (window.Bokeh !== undefined) {\n",
       "      document.getElementById(\"ae2cdb35-e286-4c28-9a71-be1368dbcc42\").textContent = \"BokehJS successfully loaded.\";\n",
       "    } else if (Date.now() < window._bokeh_timeout) {\n",
       "      setTimeout(display_loaded, 100)\n",
       "    }\n",
       "  }\n",
       "\n",
       "  function run_callbacks() {\n",
       "    window._bokeh_onload_callbacks.forEach(function(callback) { callback() });\n",
       "    delete window._bokeh_onload_callbacks\n",
       "    console.info(\"Bokeh: all callbacks have finished\");\n",
       "  }\n",
       "\n",
       "  function load_libs(js_urls, callback) {\n",
       "    window._bokeh_onload_callbacks.push(callback);\n",
       "    if (window._bokeh_is_loading > 0) {\n",
       "      console.log(\"Bokeh: BokehJS is being loaded, scheduling callback at\", now());\n",
       "      return null;\n",
       "    }\n",
       "    if (js_urls == null || js_urls.length === 0) {\n",
       "      run_callbacks();\n",
       "      return null;\n",
       "    }\n",
       "    console.log(\"Bokeh: BokehJS not loaded, scheduling load and callback at\", now());\n",
       "    window._bokeh_is_loading = js_urls.length;\n",
       "    for (var i = 0; i < js_urls.length; i++) {\n",
       "      var url = js_urls[i];\n",
       "      var s = document.createElement('script');\n",
       "      s.src = url;\n",
       "      s.async = false;\n",
       "      s.onreadystatechange = s.onload = function() {\n",
       "        window._bokeh_is_loading--;\n",
       "        if (window._bokeh_is_loading === 0) {\n",
       "          console.log(\"Bokeh: all BokehJS libraries loaded\");\n",
       "          run_callbacks()\n",
       "        }\n",
       "      };\n",
       "      s.onerror = function() {\n",
       "        console.warn(\"failed to load library \" + url);\n",
       "      };\n",
       "      console.log(\"Bokeh: injecting script tag for BokehJS library: \", url);\n",
       "      document.getElementsByTagName(\"head\")[0].appendChild(s);\n",
       "    }\n",
       "  };var element = document.getElementById(\"ae2cdb35-e286-4c28-9a71-be1368dbcc42\");\n",
       "  if (element == null) {\n",
       "    console.log(\"Bokeh: ERROR: autoload.js configured with elementid 'ae2cdb35-e286-4c28-9a71-be1368dbcc42' but no matching script tag was found. \")\n",
       "    return false;\n",
       "  }\n",
       "\n",
       "  var js_urls = [\"https://cdn.pydata.org/bokeh/release/bokeh-0.12.4.min.js\", \"https://cdn.pydata.org/bokeh/release/bokeh-widgets-0.12.4.min.js\"];\n",
       "\n",
       "  var inline_js = [\n",
       "    function(Bokeh) {\n",
       "      Bokeh.set_log_level(\"info\");\n",
       "    },\n",
       "    \n",
       "    function(Bokeh) {\n",
       "      \n",
       "      document.getElementById(\"ae2cdb35-e286-4c28-9a71-be1368dbcc42\").textContent = \"BokehJS is loading...\";\n",
       "    },\n",
       "    function(Bokeh) {\n",
       "      console.log(\"Bokeh: injecting CSS: https://cdn.pydata.org/bokeh/release/bokeh-0.12.4.min.css\");\n",
       "      Bokeh.embed.inject_css(\"https://cdn.pydata.org/bokeh/release/bokeh-0.12.4.min.css\");\n",
       "      console.log(\"Bokeh: injecting CSS: https://cdn.pydata.org/bokeh/release/bokeh-widgets-0.12.4.min.css\");\n",
       "      Bokeh.embed.inject_css(\"https://cdn.pydata.org/bokeh/release/bokeh-widgets-0.12.4.min.css\");\n",
       "    }\n",
       "  ];\n",
       "\n",
       "  function run_inline_js() {\n",
       "    \n",
       "    if ((window.Bokeh !== undefined) || (force === true)) {\n",
       "      for (var i = 0; i < inline_js.length; i++) {\n",
       "        inline_js[i](window.Bokeh);\n",
       "      }if (force === true) {\n",
       "        display_loaded();\n",
       "      }} else if (Date.now() < window._bokeh_timeout) {\n",
       "      setTimeout(run_inline_js, 100);\n",
       "    } else if (!window._bokeh_failed_load) {\n",
       "      console.log(\"Bokeh: BokehJS failed to load within specified timeout.\");\n",
       "      window._bokeh_failed_load = true;\n",
       "    } else if (force !== true) {\n",
       "      var cell = $(document.getElementById(\"ae2cdb35-e286-4c28-9a71-be1368dbcc42\")).parents('.cell').data().cell;\n",
       "      cell.output_area.append_execute_result(NB_LOAD_WARNING)\n",
       "    }\n",
       "\n",
       "  }\n",
       "\n",
       "  if (window._bokeh_is_loading === 0) {\n",
       "    console.log(\"Bokeh: BokehJS loaded, going straight to plotting\");\n",
       "    run_inline_js();\n",
       "  } else {\n",
       "    load_libs(js_urls, function() {\n",
       "      console.log(\"Bokeh: BokehJS plotting callback run at\", now());\n",
       "      run_inline_js();\n",
       "    });\n",
       "  }\n",
       "}(this));"
      ]
     },
     "metadata": {},
     "output_type": "display_data"
    }
   ],
   "source": [
    "output_notebook()"
   ]
  },
  {
   "cell_type": "code",
   "execution_count": 165,
   "metadata": {
    "collapsed": false
   },
   "outputs": [
    {
     "data": {
      "text/html": [
       "<div style=\"display: table;\"><div style=\"display: table-row;\"><div style=\"display: table-cell;\"><b title=\"bokeh.models.renderers.GlyphRenderer\">GlyphRenderer</b>(</div><div style=\"display: table-cell;\">id&nbsp;=&nbsp;'04f98407-951d-427c-8d93-ba9556109043', <span id=\"01696103-2393-4857-8f8a-7c3ffd2444b0\" style=\"cursor: pointer;\">&hellip;)</span></div></div><div class=\"d1e4a1f7-74dc-49e9-92c6-c2a05ee83595\" style=\"display: none;\"><div style=\"display: table-cell;\"></div><div style=\"display: table-cell;\">data_source&nbsp;=&nbsp;ColumnDataSource(id='7418595b-5b6a-4490-a6ce-f5b91c3d8ad0', ...),</div></div><div class=\"d1e4a1f7-74dc-49e9-92c6-c2a05ee83595\" style=\"display: none;\"><div style=\"display: table-cell;\"></div><div style=\"display: table-cell;\">glyph&nbsp;=&nbsp;Line(id='9d06437a-9310-4d7f-b5a8-9b14df93f0e5', ...),</div></div><div class=\"d1e4a1f7-74dc-49e9-92c6-c2a05ee83595\" style=\"display: none;\"><div style=\"display: table-cell;\"></div><div style=\"display: table-cell;\">hover_glyph&nbsp;=&nbsp;None,</div></div><div class=\"d1e4a1f7-74dc-49e9-92c6-c2a05ee83595\" style=\"display: none;\"><div style=\"display: table-cell;\"></div><div style=\"display: table-cell;\">js_callbacks&nbsp;=&nbsp;{},</div></div><div class=\"d1e4a1f7-74dc-49e9-92c6-c2a05ee83595\" style=\"display: none;\"><div style=\"display: table-cell;\"></div><div style=\"display: table-cell;\">level&nbsp;=&nbsp;'glyph',</div></div><div class=\"d1e4a1f7-74dc-49e9-92c6-c2a05ee83595\" style=\"display: none;\"><div style=\"display: table-cell;\"></div><div style=\"display: table-cell;\">name&nbsp;=&nbsp;None,</div></div><div class=\"d1e4a1f7-74dc-49e9-92c6-c2a05ee83595\" style=\"display: none;\"><div style=\"display: table-cell;\"></div><div style=\"display: table-cell;\">nonselection_glyph&nbsp;=&nbsp;Line(id='c5582f74-ce81-463c-9bcb-a809d105fb6c', ...),</div></div><div class=\"d1e4a1f7-74dc-49e9-92c6-c2a05ee83595\" style=\"display: none;\"><div style=\"display: table-cell;\"></div><div style=\"display: table-cell;\">selection_glyph&nbsp;=&nbsp;None,</div></div><div class=\"d1e4a1f7-74dc-49e9-92c6-c2a05ee83595\" style=\"display: none;\"><div style=\"display: table-cell;\"></div><div style=\"display: table-cell;\">tags&nbsp;=&nbsp;[],</div></div><div class=\"d1e4a1f7-74dc-49e9-92c6-c2a05ee83595\" style=\"display: none;\"><div style=\"display: table-cell;\"></div><div style=\"display: table-cell;\">visible&nbsp;=&nbsp;True,</div></div><div class=\"d1e4a1f7-74dc-49e9-92c6-c2a05ee83595\" style=\"display: none;\"><div style=\"display: table-cell;\"></div><div style=\"display: table-cell;\">x_range_name&nbsp;=&nbsp;'default',</div></div><div class=\"d1e4a1f7-74dc-49e9-92c6-c2a05ee83595\" style=\"display: none;\"><div style=\"display: table-cell;\"></div><div style=\"display: table-cell;\">y_range_name&nbsp;=&nbsp;'default')</div></div></div>\n",
       "<script>\n",
       "(function() {\n",
       "  var expanded = false;\n",
       "  var ellipsis = document.getElementById(\"01696103-2393-4857-8f8a-7c3ffd2444b0\");\n",
       "  ellipsis.addEventListener(\"click\", function() {\n",
       "    var rows = document.getElementsByClassName(\"d1e4a1f7-74dc-49e9-92c6-c2a05ee83595\");\n",
       "    for (var i = 0; i < rows.length; i++) {\n",
       "      var el = rows[i];\n",
       "      el.style.display = expanded ? \"none\" : \"table-row\";\n",
       "    }\n",
       "    ellipsis.innerHTML = expanded ? \"&hellip;)\" : \"&lsaquo;&lsaquo;&lsaquo;\";\n",
       "    expanded = !expanded;\n",
       "  });\n",
       "})();\n",
       "</script>\n"
      ],
      "text/plain": [
       "GlyphRenderer(id='04f98407-951d-427c-8d93-ba9556109043', ...)"
      ]
     },
     "execution_count": 165,
     "metadata": {},
     "output_type": "execute_result"
    }
   ],
   "source": [
    "p1 = figure(title = 'Ticker values')\n",
    "p1.xaxis.axis_label = 'Open'\n",
    "p1.yaxis.axis_label = 'Close'\n",
    "\n",
    "p1.line(print_opend, print_close)\n",
    "\n"
   ]
  },
  {
   "cell_type": "code",
   "execution_count": 157,
   "metadata": {
    "collapsed": false
   },
   "outputs": [
    {
     "data": {
      "text/html": [
       "\n",
       "\n",
       "    <div class=\"bk-root\">\n",
       "        <div class=\"bk-plotdiv\" id=\"b4ba417f-9748-41e0-8bce-08392b3720ee\"></div>\n",
       "    </div>\n",
       "<script type=\"text/javascript\">\n",
       "  \n",
       "  (function(global) {\n",
       "    function now() {\n",
       "      return new Date();\n",
       "    }\n",
       "  \n",
       "    var force = false;\n",
       "  \n",
       "    if (typeof (window._bokeh_onload_callbacks) === \"undefined\" || force === true) {\n",
       "      window._bokeh_onload_callbacks = [];\n",
       "      window._bokeh_is_loading = undefined;\n",
       "    }\n",
       "  \n",
       "  \n",
       "    \n",
       "    if (typeof (window._bokeh_timeout) === \"undefined\" || force === true) {\n",
       "      window._bokeh_timeout = Date.now() + 0;\n",
       "      window._bokeh_failed_load = false;\n",
       "    }\n",
       "  \n",
       "    var NB_LOAD_WARNING = {'data': {'text/html':\n",
       "       \"<div style='background-color: #fdd'>\\n\"+\n",
       "       \"<p>\\n\"+\n",
       "       \"BokehJS does not appear to have successfully loaded. If loading BokehJS from CDN, this \\n\"+\n",
       "       \"may be due to a slow or bad network connection. Possible fixes:\\n\"+\n",
       "       \"</p>\\n\"+\n",
       "       \"<ul>\\n\"+\n",
       "       \"<li>re-rerun `output_notebook()` to attempt to load from CDN again, or</li>\\n\"+\n",
       "       \"<li>use INLINE resources instead, as so:</li>\\n\"+\n",
       "       \"</ul>\\n\"+\n",
       "       \"<code>\\n\"+\n",
       "       \"from bokeh.resources import INLINE\\n\"+\n",
       "       \"output_notebook(resources=INLINE)\\n\"+\n",
       "       \"</code>\\n\"+\n",
       "       \"</div>\"}};\n",
       "  \n",
       "    function display_loaded() {\n",
       "      if (window.Bokeh !== undefined) {\n",
       "        document.getElementById(\"b4ba417f-9748-41e0-8bce-08392b3720ee\").textContent = \"BokehJS successfully loaded.\";\n",
       "      } else if (Date.now() < window._bokeh_timeout) {\n",
       "        setTimeout(display_loaded, 100)\n",
       "      }\n",
       "    }\n",
       "  \n",
       "    function run_callbacks() {\n",
       "      window._bokeh_onload_callbacks.forEach(function(callback) { callback() });\n",
       "      delete window._bokeh_onload_callbacks\n",
       "      console.info(\"Bokeh: all callbacks have finished\");\n",
       "    }\n",
       "  \n",
       "    function load_libs(js_urls, callback) {\n",
       "      window._bokeh_onload_callbacks.push(callback);\n",
       "      if (window._bokeh_is_loading > 0) {\n",
       "        console.log(\"Bokeh: BokehJS is being loaded, scheduling callback at\", now());\n",
       "        return null;\n",
       "      }\n",
       "      if (js_urls == null || js_urls.length === 0) {\n",
       "        run_callbacks();\n",
       "        return null;\n",
       "      }\n",
       "      console.log(\"Bokeh: BokehJS not loaded, scheduling load and callback at\", now());\n",
       "      window._bokeh_is_loading = js_urls.length;\n",
       "      for (var i = 0; i < js_urls.length; i++) {\n",
       "        var url = js_urls[i];\n",
       "        var s = document.createElement('script');\n",
       "        s.src = url;\n",
       "        s.async = false;\n",
       "        s.onreadystatechange = s.onload = function() {\n",
       "          window._bokeh_is_loading--;\n",
       "          if (window._bokeh_is_loading === 0) {\n",
       "            console.log(\"Bokeh: all BokehJS libraries loaded\");\n",
       "            run_callbacks()\n",
       "          }\n",
       "        };\n",
       "        s.onerror = function() {\n",
       "          console.warn(\"failed to load library \" + url);\n",
       "        };\n",
       "        console.log(\"Bokeh: injecting script tag for BokehJS library: \", url);\n",
       "        document.getElementsByTagName(\"head\")[0].appendChild(s);\n",
       "      }\n",
       "    };var element = document.getElementById(\"b4ba417f-9748-41e0-8bce-08392b3720ee\");\n",
       "    if (element == null) {\n",
       "      console.log(\"Bokeh: ERROR: autoload.js configured with elementid 'b4ba417f-9748-41e0-8bce-08392b3720ee' but no matching script tag was found. \")\n",
       "      return false;\n",
       "    }\n",
       "  \n",
       "    var js_urls = [];\n",
       "  \n",
       "    var inline_js = [\n",
       "      function(Bokeh) {\n",
       "        (function() {\n",
       "          var fn = function() {\n",
       "            var docs_json = {\"c5a7874b-337e-4f95-8ae9-b12e7219a05f\":{\"roots\":{\"references\":[{\"attributes\":{\"plot\":{\"id\":\"7cce6d02-67f3-4267-bccf-165a6875ede4\",\"subtype\":\"Figure\",\"type\":\"Plot\"}},\"id\":\"243742de-66f7-432f-8456-3f4ddf78c864\",\"type\":\"HelpTool\"},{\"attributes\":{\"plot\":{\"id\":\"7cce6d02-67f3-4267-bccf-165a6875ede4\",\"subtype\":\"Figure\",\"type\":\"Plot\"}},\"id\":\"a2a8e50a-9395-4b24-a2a6-d6a806e24f07\",\"type\":\"PanTool\"},{\"attributes\":{\"plot\":{\"id\":\"7cce6d02-67f3-4267-bccf-165a6875ede4\",\"subtype\":\"Figure\",\"type\":\"Plot\"},\"ticker\":{\"id\":\"a980f163-0130-465e-bc48-22bd042213f6\",\"type\":\"BasicTicker\"}},\"id\":\"7873760c-7d98-4481-939c-c8131df99dab\",\"type\":\"Grid\"},{\"attributes\":{\"overlay\":{\"id\":\"49cd9787-7fad-4dbd-871c-45ec19b85e96\",\"type\":\"BoxAnnotation\"},\"plot\":{\"id\":\"7cce6d02-67f3-4267-bccf-165a6875ede4\",\"subtype\":\"Figure\",\"type\":\"Plot\"}},\"id\":\"94e786ca-822b-4532-8137-f14e33232dfe\",\"type\":\"BoxZoomTool\"},{\"attributes\":{\"line_alpha\":{\"value\":0.1},\"line_color\":{\"value\":\"#1f77b4\"},\"x\":{\"field\":\"x\"},\"y\":{\"field\":\"y\"}},\"id\":\"998bae26-faee-4ffb-b744-4d958498b637\",\"type\":\"Line\"},{\"attributes\":{\"plot\":{\"id\":\"7cce6d02-67f3-4267-bccf-165a6875ede4\",\"subtype\":\"Figure\",\"type\":\"Plot\"}},\"id\":\"89f51994-5fb7-4c84-99ad-23b52d7e3366\",\"type\":\"SaveTool\"},{\"attributes\":{},\"id\":\"0321368a-00ba-46c1-9517-ac3ae5c04f5c\",\"type\":\"BasicTicker\"},{\"attributes\":{\"plot\":{\"id\":\"7cce6d02-67f3-4267-bccf-165a6875ede4\",\"subtype\":\"Figure\",\"type\":\"Plot\"}},\"id\":\"37188d45-75d7-474a-adcc-0994a1fd7239\",\"type\":\"ResetTool\"},{\"attributes\":{\"callback\":null,\"column_names\":[\"y\",\"x\"],\"data\":{\"x\":[22.1,22.67,22.96,23.82,25.54,24.3,26.83,29.08,29.18,29.5,28.94,29.69,31.3,31.73,30.89,31.1,31.0,31.24,31.48,30.02,30.06,28.84,28.86,29.03,30.71,31.3,31.28,31.31,32.16,31.4,30.11,30.16,29.65,28.89,29.9,30.19,30.21,29.79,29.58,29.78,29.43,28.97,28.6,29.02,30.18,30.69,30.88,29.83,31.08,33.0,32.82,32.97,32.95,34.22,35.4,35.92,37.18,38.58,36.22,36.3,36.48,36.78,36.58,36.7,37.87,36.9,38.04,37.93,37.41,37.92,38.79,38.57,38.25,37.82,36.24,36.31,36.4,36.86,33.81,34.52,34.73,35.93,37.64,36.06,36.8,36.81,35.9,36.07,35.9,35.21,34.45,34.4,35.66,35.57,34.9,34.9,33.35,33.41,33.61],\"y\":[23.0,22.91,24.15,25.2,25.08,26.4,28.72,29.1,29.3,29.62,30.21,31.42,31.85,30.42,30.69,31.34,31.51,31.7,30.86,29.73,28.97,28.88,29.04,31.22,31.15,30.9,31.31,32.05,31.24,30.24,30.45,29.79,29.4,29.29,30.16,30.43,29.75,29.71,29.65,29.43,28.89,28.08,28.83,30.26,30.65,30.68,29.48,30.98,31.97,33.04,33.01,32.64,34.81,35.42,35.66,36.29,37.5,36.53,36.3,36.67,36.55,36.45,36.26,37.68,36.86,37.75,37.97,37.54,37.42,38.2957,38.48,38.56,37.87,36.46,36.21,36.71,36.6,34.32,34.48,34.78,34.59,37.99,35.85,36.37,36.93,35.8,35.99,35.37,34.53,34.7,34.19,35.14,35.38,34.97,34.9,33.22,33.69,33.31,32.56]}},\"id\":\"3d249a1f-86fe-40cd-b66b-8d08d9de86bd\",\"type\":\"ColumnDataSource\"},{\"attributes\":{},\"id\":\"a980f163-0130-465e-bc48-22bd042213f6\",\"type\":\"BasicTicker\"},{\"attributes\":{\"dimension\":1,\"plot\":{\"id\":\"7cce6d02-67f3-4267-bccf-165a6875ede4\",\"subtype\":\"Figure\",\"type\":\"Plot\"},\"ticker\":{\"id\":\"0321368a-00ba-46c1-9517-ac3ae5c04f5c\",\"type\":\"BasicTicker\"}},\"id\":\"9492af09-dd3f-46a2-b860-a78efbb2f656\",\"type\":\"Grid\"},{\"attributes\":{\"axis_label\":\"Open\",\"formatter\":{\"id\":\"64833741-8772-43da-883b-a636a77e4533\",\"type\":\"BasicTickFormatter\"},\"plot\":{\"id\":\"7cce6d02-67f3-4267-bccf-165a6875ede4\",\"subtype\":\"Figure\",\"type\":\"Plot\"},\"ticker\":{\"id\":\"a980f163-0130-465e-bc48-22bd042213f6\",\"type\":\"BasicTicker\"}},\"id\":\"61a2ceeb-1438-464c-a52d-1cdc50500ec7\",\"type\":\"LinearAxis\"},{\"attributes\":{\"callback\":null},\"id\":\"e1a9f91f-984b-4b1e-bf0e-ee8b9cc84a65\",\"type\":\"DataRange1d\"},{\"attributes\":{\"axis_label\":\"Close\",\"formatter\":{\"id\":\"287cb1df-7084-4180-b7b9-d818ce09c6bc\",\"type\":\"BasicTickFormatter\"},\"plot\":{\"id\":\"7cce6d02-67f3-4267-bccf-165a6875ede4\",\"subtype\":\"Figure\",\"type\":\"Plot\"},\"ticker\":{\"id\":\"0321368a-00ba-46c1-9517-ac3ae5c04f5c\",\"type\":\"BasicTicker\"}},\"id\":\"49c04680-9594-4d78-9b93-8b7c65d167ce\",\"type\":\"LinearAxis\"},{\"attributes\":{\"bottom_units\":\"screen\",\"fill_alpha\":{\"value\":0.5},\"fill_color\":{\"value\":\"lightgrey\"},\"left_units\":\"screen\",\"level\":\"overlay\",\"line_alpha\":{\"value\":1.0},\"line_color\":{\"value\":\"black\"},\"line_dash\":[4,4],\"line_width\":{\"value\":2},\"plot\":null,\"render_mode\":\"css\",\"right_units\":\"screen\",\"top_units\":\"screen\"},\"id\":\"49cd9787-7fad-4dbd-871c-45ec19b85e96\",\"type\":\"BoxAnnotation\"},{\"attributes\":{\"data_source\":{\"id\":\"3d249a1f-86fe-40cd-b66b-8d08d9de86bd\",\"type\":\"ColumnDataSource\"},\"glyph\":{\"id\":\"d1f31042-bcfb-4845-b873-74d3d63dcfa5\",\"type\":\"Line\"},\"hover_glyph\":null,\"nonselection_glyph\":{\"id\":\"998bae26-faee-4ffb-b744-4d958498b637\",\"type\":\"Line\"},\"selection_glyph\":null},\"id\":\"10e11ec4-4a0d-490d-bd7e-670eab3b54ed\",\"type\":\"GlyphRenderer\"},{\"attributes\":{},\"id\":\"287cb1df-7084-4180-b7b9-d818ce09c6bc\",\"type\":\"BasicTickFormatter\"},{\"attributes\":{},\"id\":\"64833741-8772-43da-883b-a636a77e4533\",\"type\":\"BasicTickFormatter\"},{\"attributes\":{\"plot\":null,\"text\":\"Ticker values\"},\"id\":\"38262d43-3bc6-4b52-87b2-5ff2fc76efa3\",\"type\":\"Title\"},{\"attributes\":{\"callback\":null},\"id\":\"58f1485a-7638-432a-b6c7-fd0f13f09a40\",\"type\":\"DataRange1d\"},{\"attributes\":{\"below\":[{\"id\":\"61a2ceeb-1438-464c-a52d-1cdc50500ec7\",\"type\":\"LinearAxis\"}],\"left\":[{\"id\":\"49c04680-9594-4d78-9b93-8b7c65d167ce\",\"type\":\"LinearAxis\"}],\"renderers\":[{\"id\":\"61a2ceeb-1438-464c-a52d-1cdc50500ec7\",\"type\":\"LinearAxis\"},{\"id\":\"7873760c-7d98-4481-939c-c8131df99dab\",\"type\":\"Grid\"},{\"id\":\"49c04680-9594-4d78-9b93-8b7c65d167ce\",\"type\":\"LinearAxis\"},{\"id\":\"9492af09-dd3f-46a2-b860-a78efbb2f656\",\"type\":\"Grid\"},{\"id\":\"49cd9787-7fad-4dbd-871c-45ec19b85e96\",\"type\":\"BoxAnnotation\"},{\"id\":\"10e11ec4-4a0d-490d-bd7e-670eab3b54ed\",\"type\":\"GlyphRenderer\"}],\"title\":{\"id\":\"38262d43-3bc6-4b52-87b2-5ff2fc76efa3\",\"type\":\"Title\"},\"tool_events\":{\"id\":\"73edc15c-bbad-4288-8c08-8862a313d5f4\",\"type\":\"ToolEvents\"},\"toolbar\":{\"id\":\"6abb81a1-0394-4462-a3df-a110626d49d8\",\"type\":\"Toolbar\"},\"x_range\":{\"id\":\"e1a9f91f-984b-4b1e-bf0e-ee8b9cc84a65\",\"type\":\"DataRange1d\"},\"y_range\":{\"id\":\"58f1485a-7638-432a-b6c7-fd0f13f09a40\",\"type\":\"DataRange1d\"}},\"id\":\"7cce6d02-67f3-4267-bccf-165a6875ede4\",\"subtype\":\"Figure\",\"type\":\"Plot\"},{\"attributes\":{},\"id\":\"73edc15c-bbad-4288-8c08-8862a313d5f4\",\"type\":\"ToolEvents\"},{\"attributes\":{\"plot\":{\"id\":\"7cce6d02-67f3-4267-bccf-165a6875ede4\",\"subtype\":\"Figure\",\"type\":\"Plot\"}},\"id\":\"ab830e09-bfb9-4ee1-905a-447125eabb72\",\"type\":\"WheelZoomTool\"},{\"attributes\":{\"line_color\":{\"value\":\"#1f77b4\"},\"x\":{\"field\":\"x\"},\"y\":{\"field\":\"y\"}},\"id\":\"d1f31042-bcfb-4845-b873-74d3d63dcfa5\",\"type\":\"Line\"},{\"attributes\":{\"active_drag\":\"auto\",\"active_scroll\":\"auto\",\"active_tap\":\"auto\",\"tools\":[{\"id\":\"a2a8e50a-9395-4b24-a2a6-d6a806e24f07\",\"type\":\"PanTool\"},{\"id\":\"ab830e09-bfb9-4ee1-905a-447125eabb72\",\"type\":\"WheelZoomTool\"},{\"id\":\"94e786ca-822b-4532-8137-f14e33232dfe\",\"type\":\"BoxZoomTool\"},{\"id\":\"89f51994-5fb7-4c84-99ad-23b52d7e3366\",\"type\":\"SaveTool\"},{\"id\":\"37188d45-75d7-474a-adcc-0994a1fd7239\",\"type\":\"ResetTool\"},{\"id\":\"243742de-66f7-432f-8456-3f4ddf78c864\",\"type\":\"HelpTool\"}]},\"id\":\"6abb81a1-0394-4462-a3df-a110626d49d8\",\"type\":\"Toolbar\"}],\"root_ids\":[\"7cce6d02-67f3-4267-bccf-165a6875ede4\"]},\"title\":\"Bokeh Application\",\"version\":\"0.12.4\"}};\n",
       "            var render_items = [{\"docid\":\"c5a7874b-337e-4f95-8ae9-b12e7219a05f\",\"elementid\":\"b4ba417f-9748-41e0-8bce-08392b3720ee\",\"modelid\":\"7cce6d02-67f3-4267-bccf-165a6875ede4\"}];\n",
       "            \n",
       "            Bokeh.embed.embed_items(docs_json, render_items);\n",
       "          };\n",
       "          if (document.readyState != \"loading\") fn();\n",
       "          else document.addEventListener(\"DOMContentLoaded\", fn);\n",
       "        })();\n",
       "      },\n",
       "      function(Bokeh) {\n",
       "      }\n",
       "    ];\n",
       "  \n",
       "    function run_inline_js() {\n",
       "      \n",
       "      if ((window.Bokeh !== undefined) || (force === true)) {\n",
       "        for (var i = 0; i < inline_js.length; i++) {\n",
       "          inline_js[i](window.Bokeh);\n",
       "        }if (force === true) {\n",
       "          display_loaded();\n",
       "        }} else if (Date.now() < window._bokeh_timeout) {\n",
       "        setTimeout(run_inline_js, 100);\n",
       "      } else if (!window._bokeh_failed_load) {\n",
       "        console.log(\"Bokeh: BokehJS failed to load within specified timeout.\");\n",
       "        window._bokeh_failed_load = true;\n",
       "      } else if (force !== true) {\n",
       "        var cell = $(document.getElementById(\"b4ba417f-9748-41e0-8bce-08392b3720ee\")).parents('.cell').data().cell;\n",
       "        cell.output_area.append_execute_result(NB_LOAD_WARNING)\n",
       "      }\n",
       "  \n",
       "    }\n",
       "  \n",
       "    if (window._bokeh_is_loading === 0) {\n",
       "      console.log(\"Bokeh: BokehJS loaded, going straight to plotting\");\n",
       "      run_inline_js();\n",
       "    } else {\n",
       "      load_libs(js_urls, function() {\n",
       "        console.log(\"Bokeh: BokehJS plotting callback run at\", now());\n",
       "        run_inline_js();\n",
       "      });\n",
       "    }\n",
       "  }(this));\n",
       "</script>"
      ]
     },
     "metadata": {},
     "output_type": "display_data"
    }
   ],
   "source": [
    "show(p1)"
   ]
  },
  {
   "cell_type": "code",
   "execution_count": 175,
   "metadata": {
    "collapsed": false
   },
   "outputs": [],
   "source": [
    "html = file_html(p1, CDN, \"my plot\")\n"
   ]
  },
  {
   "cell_type": "code",
   "execution_count": 179,
   "metadata": {
    "collapsed": false
   },
   "outputs": [
    {
     "data": {
      "text/plain": [
       "'\\n<!DOCTYPE html>\\n<html lang=\"en\">\\n    <head>\\n        <meta charset=\"utf-8\">\\n        <title>my plot</title>\\n        \\n<link rel=\"stylesheet\" href=\"https://cdn.pydata.org/bokeh/release/bokeh-0.12.4.min.css\" type=\"text/css\" />\\n        \\n<script type=\"text/javascript\" src=\"https://cdn.pydata.org/bokeh/release/bokeh-0.12.4.min.js\"></script>\\n<script type=\"text/javascript\">\\n    Bokeh.set_log_level(\"info\");\\n</script>\\n        <style>\\n          html {\\n            width: 100%;\\n            height: 100%;\\n          }\\n          body {\\n            width: 90%;\\n            height: 100%;\\n            margin: auto;\\n          }\\n        </style>\\n    </head>\\n    <body>\\n        \\n        <div class=\"bk-root\">\\n            <div class=\"bk-plotdiv\" id=\"4e1884ed-be12-4836-859f-02edbb440600\"></div>\\n        </div>\\n        \\n        <script type=\"text/javascript\">\\n            (function() {\\n          var fn = function() {\\n            Bokeh.safely(function() {\\n              var docs_json = {\"cd12fc14-ddd8-4d6e-a576-4450516c18d4\":{\"roots\":{\"references\":[{\"attributes\":{\"plot\":null,\"text\":\"Ticker values\"},\"id\":\"d19cb2dd-6dd9-4b81-8e3b-cd41332bcbe3\",\"type\":\"Title\"},{\"attributes\":{\"callback\":null},\"id\":\"562aa028-1ae0-4a44-9890-2732bccaa70f\",\"type\":\"DataRange1d\"},{\"attributes\":{\"active_drag\":\"auto\",\"active_scroll\":\"auto\",\"active_tap\":\"auto\",\"tools\":[{\"id\":\"5693cfb9-5292-4025-a89d-ff8fea2c9ece\",\"type\":\"PanTool\"},{\"id\":\"c55d29c3-6c7c-4bf0-aa45-71f88c12c10c\",\"type\":\"WheelZoomTool\"},{\"id\":\"2480c1ec-e75c-453f-81dc-2bea6ae2d4e2\",\"type\":\"BoxZoomTool\"},{\"id\":\"f6548cab-eff0-44ca-96ae-5320e1fbac05\",\"type\":\"SaveTool\"},{\"id\":\"67dd1346-6a10-4638-989a-d018c94d2bc4\",\"type\":\"ResetTool\"},{\"id\":\"c408caf1-7ec7-4211-8257-fef1380d2d15\",\"type\":\"HelpTool\"}]},\"id\":\"fc63e081-0c42-4810-9dd8-9f1c9b3ba827\",\"type\":\"Toolbar\"},{\"attributes\":{},\"id\":\"06cce87d-5e92-4702-bee8-886c3e4ddda5\",\"type\":\"BasicTickFormatter\"},{\"attributes\":{\"overlay\":{\"id\":\"696f6951-4ab2-4cf5-8ba7-abefd6e8f958\",\"type\":\"BoxAnnotation\"},\"plot\":{\"id\":\"8d186cf9-ed49-4e6c-88ff-23eb6bdc9476\",\"subtype\":\"Figure\",\"type\":\"Plot\"}},\"id\":\"2480c1ec-e75c-453f-81dc-2bea6ae2d4e2\",\"type\":\"BoxZoomTool\"},{\"attributes\":{\"plot\":{\"id\":\"8d186cf9-ed49-4e6c-88ff-23eb6bdc9476\",\"subtype\":\"Figure\",\"type\":\"Plot\"},\"ticker\":{\"id\":\"9ebe33a6-cfda-431f-b24c-2a4ba945ea39\",\"type\":\"BasicTicker\"}},\"id\":\"684b1019-3b36-4ecc-93f2-c7a4dd4bad8c\",\"type\":\"Grid\"},{\"attributes\":{},\"id\":\"2be2489b-17ef-41b9-a39a-c037e0c7c905\",\"type\":\"BasicTicker\"},{\"attributes\":{\"below\":[{\"id\":\"95b9a90a-9c23-40a7-b105-dd9124c67f9e\",\"type\":\"LinearAxis\"}],\"left\":[{\"id\":\"e4ed5c9d-33f4-4ae3-a5c1-103ab3336ebd\",\"type\":\"LinearAxis\"}],\"renderers\":[{\"id\":\"95b9a90a-9c23-40a7-b105-dd9124c67f9e\",\"type\":\"LinearAxis\"},{\"id\":\"684b1019-3b36-4ecc-93f2-c7a4dd4bad8c\",\"type\":\"Grid\"},{\"id\":\"e4ed5c9d-33f4-4ae3-a5c1-103ab3336ebd\",\"type\":\"LinearAxis\"},{\"id\":\"6b7c7a2e-afa6-4dcc-940b-7a6be72c51c5\",\"type\":\"Grid\"},{\"id\":\"696f6951-4ab2-4cf5-8ba7-abefd6e8f958\",\"type\":\"BoxAnnotation\"},{\"id\":\"04f98407-951d-427c-8d93-ba9556109043\",\"type\":\"GlyphRenderer\"}],\"title\":{\"id\":\"d19cb2dd-6dd9-4b81-8e3b-cd41332bcbe3\",\"type\":\"Title\"},\"tool_events\":{\"id\":\"ba72e5fa-99f0-42da-a4a0-c4f41ed36625\",\"type\":\"ToolEvents\"},\"toolbar\":{\"id\":\"fc63e081-0c42-4810-9dd8-9f1c9b3ba827\",\"type\":\"Toolbar\"},\"x_range\":{\"id\":\"562aa028-1ae0-4a44-9890-2732bccaa70f\",\"type\":\"DataRange1d\"},\"y_range\":{\"id\":\"e411aaf0-5b40-4e0f-97b6-00c986d453c7\",\"type\":\"DataRange1d\"}},\"id\":\"8d186cf9-ed49-4e6c-88ff-23eb6bdc9476\",\"subtype\":\"Figure\",\"type\":\"Plot\"},{\"attributes\":{\"callback\":null,\"column_names\":[\"y\",\"x\"],\"data\":{\"x\":[22.1,22.67,22.96,23.82,25.54,24.3,26.83,29.08,29.18,29.5,28.94,29.69,31.3,31.73,30.89,31.1,31.0,31.24,31.48,30.02,30.06,28.84,28.86,29.03,30.71,31.3,31.28,31.31,32.16,31.4,30.11,30.16,29.65,28.89,29.9,30.19,30.21,29.79,29.58,29.78,29.43,28.97,28.6,29.02,30.18,30.69,30.88,29.83,31.08,33.0,32.82,32.97,32.95,34.22,35.4,35.92,37.18,38.58,36.22,36.3,36.48,36.78,36.58,36.7,37.87,36.9,38.04,37.93,37.41,37.92,38.79,38.57,38.25,37.82,36.24,36.31,36.4,36.86,33.81,34.52,34.73,35.93,37.64,36.06,36.8,36.81,35.9,36.07,35.9,35.21,34.45,34.4,35.66,35.57,34.9,34.9,33.35,33.41,33.61],\"y\":[23.0,22.91,24.15,25.2,25.08,26.4,28.72,29.1,29.3,29.62,30.21,31.42,31.85,30.42,30.69,31.34,31.51,31.7,30.86,29.73,28.97,28.88,29.04,31.22,31.15,30.9,31.31,32.05,31.24,30.24,30.45,29.79,29.4,29.29,30.16,30.43,29.75,29.71,29.65,29.43,28.89,28.08,28.83,30.26,30.65,30.68,29.48,30.98,31.97,33.04,33.01,32.64,34.81,35.42,35.66,36.29,37.5,36.53,36.3,36.67,36.55,36.45,36.26,37.68,36.86,37.75,37.97,37.54,37.42,38.2957,38.48,38.56,37.87,36.46,36.21,36.71,36.6,34.32,34.48,34.78,34.59,37.99,35.85,36.37,36.93,35.8,35.99,35.37,34.53,34.7,34.19,35.14,35.38,34.97,34.9,33.22,33.69,33.31,32.56]}},\"id\":\"7418595b-5b6a-4490-a6ce-f5b91c3d8ad0\",\"type\":\"ColumnDataSource\"},{\"attributes\":{\"plot\":{\"id\":\"8d186cf9-ed49-4e6c-88ff-23eb6bdc9476\",\"subtype\":\"Figure\",\"type\":\"Plot\"}},\"id\":\"5693cfb9-5292-4025-a89d-ff8fea2c9ece\",\"type\":\"PanTool\"},{\"attributes\":{\"plot\":{\"id\":\"8d186cf9-ed49-4e6c-88ff-23eb6bdc9476\",\"subtype\":\"Figure\",\"type\":\"Plot\"}},\"id\":\"c408caf1-7ec7-4211-8257-fef1380d2d15\",\"type\":\"HelpTool\"},{\"attributes\":{\"axis_label\":\"Open\",\"formatter\":{\"id\":\"06cce87d-5e92-4702-bee8-886c3e4ddda5\",\"type\":\"BasicTickFormatter\"},\"plot\":{\"id\":\"8d186cf9-ed49-4e6c-88ff-23eb6bdc9476\",\"subtype\":\"Figure\",\"type\":\"Plot\"},\"ticker\":{\"id\":\"9ebe33a6-cfda-431f-b24c-2a4ba945ea39\",\"type\":\"BasicTicker\"}},\"id\":\"95b9a90a-9c23-40a7-b105-dd9124c67f9e\",\"type\":\"LinearAxis\"},{\"attributes\":{\"axis_label\":\"Close\",\"formatter\":{\"id\":\"1135eecb-77f6-4c97-b42c-f9bd7da0e4fc\",\"type\":\"BasicTickFormatter\"},\"plot\":{\"id\":\"8d186cf9-ed49-4e6c-88ff-23eb6bdc9476\",\"subtype\":\"Figure\",\"type\":\"Plot\"},\"ticker\":{\"id\":\"2be2489b-17ef-41b9-a39a-c037e0c7c905\",\"type\":\"BasicTicker\"}},\"id\":\"e4ed5c9d-33f4-4ae3-a5c1-103ab3336ebd\",\"type\":\"LinearAxis\"},{\"attributes\":{\"plot\":{\"id\":\"8d186cf9-ed49-4e6c-88ff-23eb6bdc9476\",\"subtype\":\"Figure\",\"type\":\"Plot\"}},\"id\":\"c55d29c3-6c7c-4bf0-aa45-71f88c12c10c\",\"type\":\"WheelZoomTool\"},{\"attributes\":{\"data_source\":{\"id\":\"7418595b-5b6a-4490-a6ce-f5b91c3d8ad0\",\"type\":\"ColumnDataSource\"},\"glyph\":{\"id\":\"9d06437a-9310-4d7f-b5a8-9b14df93f0e5\",\"type\":\"Line\"},\"hover_glyph\":null,\"nonselection_glyph\":{\"id\":\"c5582f74-ce81-463c-9bcb-a809d105fb6c\",\"type\":\"Line\"},\"selection_glyph\":null},\"id\":\"04f98407-951d-427c-8d93-ba9556109043\",\"type\":\"GlyphRenderer\"},{\"attributes\":{},\"id\":\"1135eecb-77f6-4c97-b42c-f9bd7da0e4fc\",\"type\":\"BasicTickFormatter\"},{\"attributes\":{},\"id\":\"9ebe33a6-cfda-431f-b24c-2a4ba945ea39\",\"type\":\"BasicTicker\"},{\"attributes\":{\"line_alpha\":{\"value\":0.1},\"line_color\":{\"value\":\"#1f77b4\"},\"x\":{\"field\":\"x\"},\"y\":{\"field\":\"y\"}},\"id\":\"c5582f74-ce81-463c-9bcb-a809d105fb6c\",\"type\":\"Line\"},{\"attributes\":{\"callback\":null},\"id\":\"e411aaf0-5b40-4e0f-97b6-00c986d453c7\",\"type\":\"DataRange1d\"},{\"attributes\":{\"plot\":{\"id\":\"8d186cf9-ed49-4e6c-88ff-23eb6bdc9476\",\"subtype\":\"Figure\",\"type\":\"Plot\"}},\"id\":\"f6548cab-eff0-44ca-96ae-5320e1fbac05\",\"type\":\"SaveTool\"},{\"attributes\":{\"dimension\":1,\"plot\":{\"id\":\"8d186cf9-ed49-4e6c-88ff-23eb6bdc9476\",\"subtype\":\"Figure\",\"type\":\"Plot\"},\"ticker\":{\"id\":\"2be2489b-17ef-41b9-a39a-c037e0c7c905\",\"type\":\"BasicTicker\"}},\"id\":\"6b7c7a2e-afa6-4dcc-940b-7a6be72c51c5\",\"type\":\"Grid\"},{\"attributes\":{\"plot\":{\"id\":\"8d186cf9-ed49-4e6c-88ff-23eb6bdc9476\",\"subtype\":\"Figure\",\"type\":\"Plot\"}},\"id\":\"67dd1346-6a10-4638-989a-d018c94d2bc4\",\"type\":\"ResetTool\"},{\"attributes\":{\"bottom_units\":\"screen\",\"fill_alpha\":{\"value\":0.5},\"fill_color\":{\"value\":\"lightgrey\"},\"left_units\":\"screen\",\"level\":\"overlay\",\"line_alpha\":{\"value\":1.0},\"line_color\":{\"value\":\"black\"},\"line_dash\":[4,4],\"line_width\":{\"value\":2},\"plot\":null,\"render_mode\":\"css\",\"right_units\":\"screen\",\"top_units\":\"screen\"},\"id\":\"696f6951-4ab2-4cf5-8ba7-abefd6e8f958\",\"type\":\"BoxAnnotation\"},{\"attributes\":{},\"id\":\"ba72e5fa-99f0-42da-a4a0-c4f41ed36625\",\"type\":\"ToolEvents\"},{\"attributes\":{\"line_color\":{\"value\":\"#1f77b4\"},\"x\":{\"field\":\"x\"},\"y\":{\"field\":\"y\"}},\"id\":\"9d06437a-9310-4d7f-b5a8-9b14df93f0e5\",\"type\":\"Line\"}],\"root_ids\":[\"8d186cf9-ed49-4e6c-88ff-23eb6bdc9476\"]},\"title\":\"Bokeh Application\",\"version\":\"0.12.4\"}};\\n              var render_items = [{\"docid\":\"cd12fc14-ddd8-4d6e-a576-4450516c18d4\",\"elementid\":\"4e1884ed-be12-4836-859f-02edbb440600\",\"modelid\":\"8d186cf9-ed49-4e6c-88ff-23eb6bdc9476\"}];\\n              \\n              Bokeh.embed.embed_items(docs_json, render_items);\\n            });\\n          };\\n          if (document.readyState != \"loading\") fn();\\n          else document.addEventListener(\"DOMContentLoaded\", fn);\\n        })();\\n        \\n        </script>\\n    </body>\\n</html>'"
      ]
     },
     "execution_count": 179,
     "metadata": {},
     "output_type": "execute_result"
    }
   ],
   "source": [
    "html"
   ]
  },
  {
   "cell_type": "code",
   "execution_count": 171,
   "metadata": {
    "collapsed": false
   },
   "outputs": [
    {
     "name": "stdout",
     "output_type": "stream",
     "text": [
      "\n",
      "<script type=\"text/javascript\">\n",
      "    (function() {\n",
      "  var fn = function() {\n",
      "    Bokeh.safely(function() {\n",
      "      var docs_json = {\"ffb64703-0f23-4ca6-b39a-632a93b1a11f\":{\"roots\":{\"references\":[{\"attributes\":{\"plot\":null,\"text\":\"Ticker values\"},\"id\":\"d19cb2dd-6dd9-4b81-8e3b-cd41332bcbe3\",\"type\":\"Title\"},{\"attributes\":{\"callback\":null},\"id\":\"562aa028-1ae0-4a44-9890-2732bccaa70f\",\"type\":\"DataRange1d\"},{\"attributes\":{\"active_drag\":\"auto\",\"active_scroll\":\"auto\",\"active_tap\":\"auto\",\"tools\":[{\"id\":\"5693cfb9-5292-4025-a89d-ff8fea2c9ece\",\"type\":\"PanTool\"},{\"id\":\"c55d29c3-6c7c-4bf0-aa45-71f88c12c10c\",\"type\":\"WheelZoomTool\"},{\"id\":\"2480c1ec-e75c-453f-81dc-2bea6ae2d4e2\",\"type\":\"BoxZoomTool\"},{\"id\":\"f6548cab-eff0-44ca-96ae-5320e1fbac05\",\"type\":\"SaveTool\"},{\"id\":\"67dd1346-6a10-4638-989a-d018c94d2bc4\",\"type\":\"ResetTool\"},{\"id\":\"c408caf1-7ec7-4211-8257-fef1380d2d15\",\"type\":\"HelpTool\"}]},\"id\":\"fc63e081-0c42-4810-9dd8-9f1c9b3ba827\",\"type\":\"Toolbar\"},{\"attributes\":{},\"id\":\"06cce87d-5e92-4702-bee8-886c3e4ddda5\",\"type\":\"BasicTickFormatter\"},{\"attributes\":{\"overlay\":{\"id\":\"696f6951-4ab2-4cf5-8ba7-abefd6e8f958\",\"type\":\"BoxAnnotation\"},\"plot\":{\"id\":\"8d186cf9-ed49-4e6c-88ff-23eb6bdc9476\",\"subtype\":\"Figure\",\"type\":\"Plot\"}},\"id\":\"2480c1ec-e75c-453f-81dc-2bea6ae2d4e2\",\"type\":\"BoxZoomTool\"},{\"attributes\":{\"plot\":{\"id\":\"8d186cf9-ed49-4e6c-88ff-23eb6bdc9476\",\"subtype\":\"Figure\",\"type\":\"Plot\"},\"ticker\":{\"id\":\"9ebe33a6-cfda-431f-b24c-2a4ba945ea39\",\"type\":\"BasicTicker\"}},\"id\":\"684b1019-3b36-4ecc-93f2-c7a4dd4bad8c\",\"type\":\"Grid\"},{\"attributes\":{},\"id\":\"2be2489b-17ef-41b9-a39a-c037e0c7c905\",\"type\":\"BasicTicker\"},{\"attributes\":{\"below\":[{\"id\":\"95b9a90a-9c23-40a7-b105-dd9124c67f9e\",\"type\":\"LinearAxis\"}],\"left\":[{\"id\":\"e4ed5c9d-33f4-4ae3-a5c1-103ab3336ebd\",\"type\":\"LinearAxis\"}],\"renderers\":[{\"id\":\"95b9a90a-9c23-40a7-b105-dd9124c67f9e\",\"type\":\"LinearAxis\"},{\"id\":\"684b1019-3b36-4ecc-93f2-c7a4dd4bad8c\",\"type\":\"Grid\"},{\"id\":\"e4ed5c9d-33f4-4ae3-a5c1-103ab3336ebd\",\"type\":\"LinearAxis\"},{\"id\":\"6b7c7a2e-afa6-4dcc-940b-7a6be72c51c5\",\"type\":\"Grid\"},{\"id\":\"696f6951-4ab2-4cf5-8ba7-abefd6e8f958\",\"type\":\"BoxAnnotation\"},{\"id\":\"04f98407-951d-427c-8d93-ba9556109043\",\"type\":\"GlyphRenderer\"}],\"title\":{\"id\":\"d19cb2dd-6dd9-4b81-8e3b-cd41332bcbe3\",\"type\":\"Title\"},\"tool_events\":{\"id\":\"ba72e5fa-99f0-42da-a4a0-c4f41ed36625\",\"type\":\"ToolEvents\"},\"toolbar\":{\"id\":\"fc63e081-0c42-4810-9dd8-9f1c9b3ba827\",\"type\":\"Toolbar\"},\"x_range\":{\"id\":\"562aa028-1ae0-4a44-9890-2732bccaa70f\",\"type\":\"DataRange1d\"},\"y_range\":{\"id\":\"e411aaf0-5b40-4e0f-97b6-00c986d453c7\",\"type\":\"DataRange1d\"}},\"id\":\"8d186cf9-ed49-4e6c-88ff-23eb6bdc9476\",\"subtype\":\"Figure\",\"type\":\"Plot\"},{\"attributes\":{\"callback\":null,\"column_names\":[\"y\",\"x\"],\"data\":{\"x\":[22.1,22.67,22.96,23.82,25.54,24.3,26.83,29.08,29.18,29.5,28.94,29.69,31.3,31.73,30.89,31.1,31.0,31.24,31.48,30.02,30.06,28.84,28.86,29.03,30.71,31.3,31.28,31.31,32.16,31.4,30.11,30.16,29.65,28.89,29.9,30.19,30.21,29.79,29.58,29.78,29.43,28.97,28.6,29.02,30.18,30.69,30.88,29.83,31.08,33.0,32.82,32.97,32.95,34.22,35.4,35.92,37.18,38.58,36.22,36.3,36.48,36.78,36.58,36.7,37.87,36.9,38.04,37.93,37.41,37.92,38.79,38.57,38.25,37.82,36.24,36.31,36.4,36.86,33.81,34.52,34.73,35.93,37.64,36.06,36.8,36.81,35.9,36.07,35.9,35.21,34.45,34.4,35.66,35.57,34.9,34.9,33.35,33.41,33.61],\"y\":[23.0,22.91,24.15,25.2,25.08,26.4,28.72,29.1,29.3,29.62,30.21,31.42,31.85,30.42,30.69,31.34,31.51,31.7,30.86,29.73,28.97,28.88,29.04,31.22,31.15,30.9,31.31,32.05,31.24,30.24,30.45,29.79,29.4,29.29,30.16,30.43,29.75,29.71,29.65,29.43,28.89,28.08,28.83,30.26,30.65,30.68,29.48,30.98,31.97,33.04,33.01,32.64,34.81,35.42,35.66,36.29,37.5,36.53,36.3,36.67,36.55,36.45,36.26,37.68,36.86,37.75,37.97,37.54,37.42,38.2957,38.48,38.56,37.87,36.46,36.21,36.71,36.6,34.32,34.48,34.78,34.59,37.99,35.85,36.37,36.93,35.8,35.99,35.37,34.53,34.7,34.19,35.14,35.38,34.97,34.9,33.22,33.69,33.31,32.56]}},\"id\":\"7418595b-5b6a-4490-a6ce-f5b91c3d8ad0\",\"type\":\"ColumnDataSource\"},{\"attributes\":{\"plot\":{\"id\":\"8d186cf9-ed49-4e6c-88ff-23eb6bdc9476\",\"subtype\":\"Figure\",\"type\":\"Plot\"}},\"id\":\"5693cfb9-5292-4025-a89d-ff8fea2c9ece\",\"type\":\"PanTool\"},{\"attributes\":{\"plot\":{\"id\":\"8d186cf9-ed49-4e6c-88ff-23eb6bdc9476\",\"subtype\":\"Figure\",\"type\":\"Plot\"}},\"id\":\"c408caf1-7ec7-4211-8257-fef1380d2d15\",\"type\":\"HelpTool\"},{\"attributes\":{\"axis_label\":\"Open\",\"formatter\":{\"id\":\"06cce87d-5e92-4702-bee8-886c3e4ddda5\",\"type\":\"BasicTickFormatter\"},\"plot\":{\"id\":\"8d186cf9-ed49-4e6c-88ff-23eb6bdc9476\",\"subtype\":\"Figure\",\"type\":\"Plot\"},\"ticker\":{\"id\":\"9ebe33a6-cfda-431f-b24c-2a4ba945ea39\",\"type\":\"BasicTicker\"}},\"id\":\"95b9a90a-9c23-40a7-b105-dd9124c67f9e\",\"type\":\"LinearAxis\"},{\"attributes\":{\"axis_label\":\"Close\",\"formatter\":{\"id\":\"1135eecb-77f6-4c97-b42c-f9bd7da0e4fc\",\"type\":\"BasicTickFormatter\"},\"plot\":{\"id\":\"8d186cf9-ed49-4e6c-88ff-23eb6bdc9476\",\"subtype\":\"Figure\",\"type\":\"Plot\"},\"ticker\":{\"id\":\"2be2489b-17ef-41b9-a39a-c037e0c7c905\",\"type\":\"BasicTicker\"}},\"id\":\"e4ed5c9d-33f4-4ae3-a5c1-103ab3336ebd\",\"type\":\"LinearAxis\"},{\"attributes\":{\"plot\":{\"id\":\"8d186cf9-ed49-4e6c-88ff-23eb6bdc9476\",\"subtype\":\"Figure\",\"type\":\"Plot\"}},\"id\":\"c55d29c3-6c7c-4bf0-aa45-71f88c12c10c\",\"type\":\"WheelZoomTool\"},{\"attributes\":{\"data_source\":{\"id\":\"7418595b-5b6a-4490-a6ce-f5b91c3d8ad0\",\"type\":\"ColumnDataSource\"},\"glyph\":{\"id\":\"9d06437a-9310-4d7f-b5a8-9b14df93f0e5\",\"type\":\"Line\"},\"hover_glyph\":null,\"nonselection_glyph\":{\"id\":\"c5582f74-ce81-463c-9bcb-a809d105fb6c\",\"type\":\"Line\"},\"selection_glyph\":null},\"id\":\"04f98407-951d-427c-8d93-ba9556109043\",\"type\":\"GlyphRenderer\"},{\"attributes\":{},\"id\":\"1135eecb-77f6-4c97-b42c-f9bd7da0e4fc\",\"type\":\"BasicTickFormatter\"},{\"attributes\":{},\"id\":\"9ebe33a6-cfda-431f-b24c-2a4ba945ea39\",\"type\":\"BasicTicker\"},{\"attributes\":{\"line_alpha\":{\"value\":0.1},\"line_color\":{\"value\":\"#1f77b4\"},\"x\":{\"field\":\"x\"},\"y\":{\"field\":\"y\"}},\"id\":\"c5582f74-ce81-463c-9bcb-a809d105fb6c\",\"type\":\"Line\"},{\"attributes\":{\"callback\":null},\"id\":\"e411aaf0-5b40-4e0f-97b6-00c986d453c7\",\"type\":\"DataRange1d\"},{\"attributes\":{\"plot\":{\"id\":\"8d186cf9-ed49-4e6c-88ff-23eb6bdc9476\",\"subtype\":\"Figure\",\"type\":\"Plot\"}},\"id\":\"f6548cab-eff0-44ca-96ae-5320e1fbac05\",\"type\":\"SaveTool\"},{\"attributes\":{\"dimension\":1,\"plot\":{\"id\":\"8d186cf9-ed49-4e6c-88ff-23eb6bdc9476\",\"subtype\":\"Figure\",\"type\":\"Plot\"},\"ticker\":{\"id\":\"2be2489b-17ef-41b9-a39a-c037e0c7c905\",\"type\":\"BasicTicker\"}},\"id\":\"6b7c7a2e-afa6-4dcc-940b-7a6be72c51c5\",\"type\":\"Grid\"},{\"attributes\":{\"plot\":{\"id\":\"8d186cf9-ed49-4e6c-88ff-23eb6bdc9476\",\"subtype\":\"Figure\",\"type\":\"Plot\"}},\"id\":\"67dd1346-6a10-4638-989a-d018c94d2bc4\",\"type\":\"ResetTool\"},{\"attributes\":{\"bottom_units\":\"screen\",\"fill_alpha\":{\"value\":0.5},\"fill_color\":{\"value\":\"lightgrey\"},\"left_units\":\"screen\",\"level\":\"overlay\",\"line_alpha\":{\"value\":1.0},\"line_color\":{\"value\":\"black\"},\"line_dash\":[4,4],\"line_width\":{\"value\":2},\"plot\":null,\"render_mode\":\"css\",\"right_units\":\"screen\",\"top_units\":\"screen\"},\"id\":\"696f6951-4ab2-4cf5-8ba7-abefd6e8f958\",\"type\":\"BoxAnnotation\"},{\"attributes\":{},\"id\":\"ba72e5fa-99f0-42da-a4a0-c4f41ed36625\",\"type\":\"ToolEvents\"},{\"attributes\":{\"line_color\":{\"value\":\"#1f77b4\"},\"x\":{\"field\":\"x\"},\"y\":{\"field\":\"y\"}},\"id\":\"9d06437a-9310-4d7f-b5a8-9b14df93f0e5\",\"type\":\"Line\"}],\"root_ids\":[\"8d186cf9-ed49-4e6c-88ff-23eb6bdc9476\"]},\"title\":\"Bokeh Application\",\"version\":\"0.12.4\"}};\n",
      "      var render_items = [{\"docid\":\"ffb64703-0f23-4ca6-b39a-632a93b1a11f\",\"elementid\":\"a90e026e-99e7-49c8-b266-2c039f286961\",\"modelid\":\"8d186cf9-ed49-4e6c-88ff-23eb6bdc9476\"}];\n",
      "      \n",
      "      Bokeh.embed.embed_items(docs_json, render_items);\n",
      "    });\n",
      "  };\n",
      "  if (document.readyState != \"loading\") fn();\n",
      "  else document.addEventListener(\"DOMContentLoaded\", fn);\n",
      "})();\n",
      "\n",
      "</script>\n",
      "\n",
      "<div class=\"bk-root\">\n",
      "    <div class=\"bk-plotdiv\" id=\"a90e026e-99e7-49c8-b266-2c039f286961\"></div>\n",
      "</div>\n"
     ]
    }
   ],
   "source": [
    "script, div = components(p1)\n",
    "print(script)\n",
    "print(div)"
   ]
  },
  {
   "cell_type": "code",
   "execution_count": null,
   "metadata": {
    "collapsed": true
   },
   "outputs": [],
   "source": []
  }
 ],
 "metadata": {
  "kernelspec": {
   "display_name": "Python 2",
   "language": "python",
   "name": "python2"
  },
  "language_info": {
   "codemirror_mode": {
    "name": "ipython",
    "version": 2
   },
   "file_extension": ".py",
   "mimetype": "text/x-python",
   "name": "python",
   "nbconvert_exporter": "python",
   "pygments_lexer": "ipython2",
   "version": "2.7.13"
  }
 },
 "nbformat": 4,
 "nbformat_minor": 2
}
